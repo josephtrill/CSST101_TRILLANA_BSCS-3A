{
  "nbformat": 4,
  "nbformat_minor": 0,
  "metadata": {
    "colab": {
      "provenance": [],
      "authorship_tag": "ABX9TyM/XjVJ8wh7eKJrDlG3w/TG",
      "include_colab_link": true
    },
    "kernelspec": {
      "name": "python3",
      "display_name": "Python 3"
    },
    "language_info": {
      "name": "python"
    }
  },
  "cells": [
    {
      "cell_type": "markdown",
      "metadata": {
        "id": "view-in-github",
        "colab_type": "text"
      },
      "source": [
        "<a href=\"https://colab.research.google.com/github/josephtrill/CSST101_TRILLANA_BSCS-3A/blob/main/3A_TRILLANA_EXER1.ipynb\" target=\"_parent\"><img src=\"https://colab.research.google.com/assets/colab-badge.svg\" alt=\"Open In Colab\"/></a>"
      ]
    },
    {
      "cell_type": "markdown",
      "source": [
        "**Exercise 1: Propositional Logic in Python**"
      ],
      "metadata": {
        "id": "B8yyNbU3dnIx"
      }
    },
    {
      "cell_type": "code",
      "execution_count": null,
      "metadata": {
        "colab": {
          "base_uri": "https://localhost:8080/"
        },
        "id": "sx4MbRsCdOAj",
        "outputId": "857df0aa-f00f-448c-e824-000c17a953f8"
      },
      "outputs": [
        {
          "output_type": "stream",
          "name": "stdout",
          "text": [
            "The match will not light.\n"
          ]
        }
      ],
      "source": [
        "raining = True  # \"It is raining.\"\n",
        "ground_wet = False  # the ground is not wet\n",
        "match_lights = True  # the match will light\n",
        "\n",
        "if raining:\n",
        "    ground_wet = True  # If it rains\n",
        "\n",
        "if ground_wet:\n",
        "    match_lights = False  # If the ground is wet\n",
        "\n",
        "# Output\n",
        "if match_lights:\n",
        "    print(\"The match will light.\")\n",
        "else:\n",
        "    print(\"The match will not light.\")\n"
      ]
    },
    {
      "cell_type": "markdown",
      "source": [
        "**Exercise 2: Predicate Logic Representation**"
      ],
      "metadata": {
        "id": "pw4EA_FSeFdX"
      }
    },
    {
      "cell_type": "code",
      "source": [
        "def isHuman(x):\n",
        "    humans = [\"Socrates\"]\n",
        "    return x in humans\n",
        "\n",
        "def isMortal(x):\n",
        "    if isHuman(x):\n",
        "        return True  # All humans are mortal\n",
        "    return False\n",
        "\n",
        "socrates = \"Socrates\"\n",
        "\n",
        "if isHuman(socrates):\n",
        "    print(f\"{socrates} is a human.\")\n",
        "    if isMortal(socrates):\n",
        "        print(f\"Therefore, {socrates} is mortal.\")\n",
        "else:\n",
        "    print(f\"{socrates} is not a human.\")\n"
      ],
      "metadata": {
        "colab": {
          "base_uri": "https://localhost:8080/"
        },
        "id": "PwiMZJUOeFFY",
        "outputId": "7aceba5b-b903-44a6-c93e-e05778201f6a"
      },
      "execution_count": null,
      "outputs": [
        {
          "output_type": "stream",
          "name": "stdout",
          "text": [
            "Socrates is a human.\n",
            "Therefore, Socrates is mortal.\n"
          ]
        }
      ]
    },
    {
      "cell_type": "markdown",
      "source": [
        "**Exercise 3: Inference Techniques in Logic-Based Systems**"
      ],
      "metadata": {
        "id": "C2zYuPAXeUEC"
      }
    },
    {
      "cell_type": "code",
      "source": [
        "# Function\n",
        "def modus_ponens(facts, rules):\n",
        "    new_facts = set(facts)  # Keep track\n",
        "    for rule in rules:\n",
        "        antecedent, consequent = rule\n",
        "        if antecedent in facts:\n",
        "            new_facts.add(consequent)\n",
        "    return new_facts\n",
        "\n",
        "rules = [(\"X\", \"Y\"), (\"A\", \"B\"), (\"B\", \"C\")]\n",
        "facts = [\"X\", \"A\"]\n",
        "\n",
        "inferred_facts = modus_ponens(facts, rules)\n",
        "print(f\"Inferred facts: {inferred_facts}\")\n"
      ],
      "metadata": {
        "colab": {
          "base_uri": "https://localhost:8080/"
        },
        "id": "8o9riUb_fQaV",
        "outputId": "117ae426-02a4-4a8c-fd32-198ccb164fb6"
      },
      "execution_count": null,
      "outputs": [
        {
          "output_type": "stream",
          "name": "stdout",
          "text": [
            "Inferred facts: {'A', 'B', 'X', 'Y'}\n"
          ]
        }
      ]
    },
    {
      "cell_type": "markdown",
      "source": [
        "**Exercise 4: Hands-on Lab - Implementing a Logic-Based Model in Python**"
      ],
      "metadata": {
        "id": "AsFI-ksUfr2w"
      }
    },
    {
      "cell_type": "code",
      "source": [
        "john_hungry = True\n",
        "john_eating = False\n",
        "\n",
        "def is_hungry(person):\n",
        "    return person == \"John\" and john_hungry\n",
        "\n",
        "def eats(person):\n",
        "    global john_eating, john_hungry\n",
        "    if is_hungry(person):\n",
        "        john_eating = True  # John will eat if he is hungry\n",
        "        john_hungry = False  # Once John eats, he is no longer hungry\n",
        "\n",
        "person = \"John\"\n",
        "if is_hungry(person):\n",
        "    print(f\"{person} is hungry.\")\n",
        "    eats(person)\n",
        "    if not john_hungry:\n",
        "        print(f\"{person} is no longer hungry after eating.\")\n",
        "else:\n",
        "    print(f\"{person} is not hungry.\")\n"
      ],
      "metadata": {
        "colab": {
          "base_uri": "https://localhost:8080/"
        },
        "id": "A-lTe7zvfs9q",
        "outputId": "cf6d6145-2f5b-40f2-db35-d823b1b10b18"
      },
      "execution_count": null,
      "outputs": [
        {
          "output_type": "stream",
          "name": "stdout",
          "text": [
            "John is hungry.\n",
            "John is no longer hungry after eating.\n"
          ]
        }
      ]
    },
    {
      "cell_type": "markdown",
      "source": [
        "**Case Study Discussion**\n",
        "\n",
        "**AI System Using Logic-Based Reasoning:**\n",
        "\n",
        "Expert systems, like MYCIN, use logic-based reasoning to solve problems with predefined rules.\n",
        "\n",
        "**Propositional and Predicate Logic:**\n",
        "\n",
        "Expert systems use Propositional Logic for basic facts (e.g., \"If a patient has a fever, they might have an infection\") and Predicate Logic for complex relationships (e.g., \"All patients with bacterial infections should be treated with antibiotics\"). They apply inference rules like Modus Ponens to reach conclusions.\n",
        "\n",
        "\n",
        "**Advantages and Challenges:**\n",
        "\n",
        "Advantages: Consistent decision-making, transparency, and expert knowledge encapsulation.\n",
        "Challenges: Scalability issues, difficulty handling uncertainty, and time-consuming rule maintenance.\n",
        "\n",
        "\n",
        "\n",
        "\n",
        "\n",
        "\n"
      ],
      "metadata": {
        "id": "dw4bt4svf72z"
      }
    },
    {
      "cell_type": "markdown",
      "source": [
        "**Assignment: Implement a Logic-Based Model in Python**\n",
        "1. Problem Selection:\n",
        "A simple decision-making system for a customer support chatbot is a real-world problem where logic can be applied. The chatbot can decide responses based on user input using predefined rules.\n",
        "\n",
        "2. Logic Representation:\n",
        "\n",
        "Propositional Logic:\n",
        "\n",
        "* \"If the user asks for pricing, respond with pricing details.\"\n",
        "\n",
        "* \"If the user asks for support, provide a support link.\"\n",
        "\n",
        "Predicate Logic:\n",
        "\n",
        "For more complex queries, like checking the status of an order, predicates like isOrderNumberValid(user_input) can be used to infer further steps."
      ],
      "metadata": {
        "id": "rPtKCHOziOsF"
      }
    },
    {
      "cell_type": "code",
      "source": [
        "# Python Implementation:\n",
        "def get_response(user_input):\n",
        "\n",
        "    if \"pricing\" in user_input.lower():\n",
        "        return \"Here are our pricing details: [link to pricing]\"\n",
        "    elif \"support\" in user_input.lower():\n",
        "        return \"Please visit our support page: [link to support]\"\n",
        "    elif \"order status\" in user_input.lower() and isOrderNumberValid(user_input):\n",
        "        return \"Your order is currently being processed.\"\n",
        "    else:\n",
        "        return \"I'm sorry, I don't understand your query.\"\n",
        "\n",
        "def isOrderNumberValid(user_input):\n",
        "    return any(char.isdigit() for char in user_input)\n",
        "\n",
        "user_query = \"Can I get support?\"\n",
        "response = get_response(user_query)\n",
        "print(response)\n"
      ],
      "metadata": {
        "colab": {
          "base_uri": "https://localhost:8080/"
        },
        "id": "-qjnrXZKiVZE",
        "outputId": "2eb5bdc0-fb0f-48b7-8278-3b2c06dcd8ff"
      },
      "execution_count": null,
      "outputs": [
        {
          "output_type": "stream",
          "name": "stdout",
          "text": [
            "Please visit our support page: [link to support]\n"
          ]
        }
      ]
    }
  ]
}
