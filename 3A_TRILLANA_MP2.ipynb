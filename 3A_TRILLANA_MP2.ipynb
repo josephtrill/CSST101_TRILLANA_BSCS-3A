{
  "nbformat": 4,
  "nbformat_minor": 0,
  "metadata": {
    "colab": {
      "provenance": [],
      "authorship_tag": "ABX9TyN3kOPhq3y6DQUsDafICmev",
      "include_colab_link": true
    },
    "kernelspec": {
      "name": "python3",
      "display_name": "Python 3"
    },
    "language_info": {
      "name": "python"
    }
  },
  "cells": [
    {
      "cell_type": "markdown",
      "metadata": {
        "id": "view-in-github",
        "colab_type": "text"
      },
      "source": [
        "<a href=\"https://colab.research.google.com/github/josephtrill/CSST101_TRILLANA_BSCS-3A/blob/main/3A_TRILLANA_MP2.ipynb\" target=\"_parent\"><img src=\"https://colab.research.google.com/assets/colab-badge.svg\" alt=\"Open In Colab\"/></a>"
      ]
    },
    {
      "cell_type": "markdown",
      "source": [
        "# **Machine Problem No. 2**\n",
        "### **Machine Problem: Implementing a Logic-Based Model in Python**"
      ],
      "metadata": {
        "id": "Y79lxSHzIFkc"
      }
    },
    {
      "cell_type": "markdown",
      "source": [
        "**1. Propositional Logic Operations**"
      ],
      "metadata": {
        "id": "o2L1bRJQGWCC"
      }
    },
    {
      "cell_type": "code",
      "execution_count": 1,
      "metadata": {
        "colab": {
          "base_uri": "https://localhost:8080/"
        },
        "id": "GbQpagzlEgrE",
        "outputId": "8bb37afd-4c78-4117-92bb-52594a8fccc3"
      },
      "outputs": [
        {
          "output_type": "stream",
          "name": "stdout",
          "text": [
            "AND operation (p ∧ q): False\n",
            "OR operation (p ∨ q): True\n",
            "NOT operation (¬p): False\n",
            "IMPLIES operation (p → q): False\n"
          ]
        }
      ],
      "source": [
        "\n",
        "def and_operation(p, q):\n",
        "    return p and q\n",
        "\n",
        "def or_operation(p, q):\n",
        "    return p or q\n",
        "\n",
        "def not_operation(p):\n",
        "    return not p\n",
        "\n",
        "def implies_operation(p, q):\n",
        "    return not p or q\n",
        "\n",
        "p = True\n",
        "q = False\n",
        "\n",
        "print(f\"AND operation (p ∧ q): {and_operation(p, q)}\")  # False\n",
        "print(f\"OR operation (p ∨ q): {or_operation(p, q)}\")    # True\n",
        "print(f\"NOT operation (¬p): {not_operation(p)}\")        # False\n",
        "print(f\"IMPLIES operation (p → q): {implies_operation(p, q)}\")  # False"
      ]
    },
    {
      "cell_type": "markdown",
      "source": [
        "**2. Evaluate Logical Statements**"
      ],
      "metadata": {
        "id": "0kAu-OuiGa-3"
      }
    },
    {
      "cell_type": "code",
      "source": [
        "def evaluate(statement, values):\n",
        "    statement = statement.replace('and', ' and ').replace('or', ' or ').replace('not', ' not ').replace('=>', ' or not ')\n",
        "    for var, val in values.items():\n",
        "        statement = statement.replace(var, str(val))\n",
        "    return eval(statement)"
      ],
      "metadata": {
        "id": "kz1EnpG_GjHx"
      },
      "execution_count": 3,
      "outputs": []
    },
    {
      "cell_type": "code",
      "source": [
        "print(evaluate('A and B', {'A': True, 'B': False}))  # Expected: False\n",
        "print(evaluate('A or B', {'A': True, 'B': False}))   # Expected: True\n",
        "print(evaluate('not A', {'A': True}))                 # Expected: False\n",
        "print(evaluate('A => B', {'A': True, 'B': False}))    # Expected: False"
      ],
      "metadata": {
        "colab": {
          "base_uri": "https://localhost:8080/"
        },
        "id": "M2vf8plTF5tM",
        "outputId": "e33a664e-03b9-4dff-977a-77e5486b76a6"
      },
      "execution_count": 4,
      "outputs": [
        {
          "output_type": "stream",
          "name": "stdout",
          "text": [
            "False\n",
            "True\n",
            "False\n",
            "True\n"
          ]
        }
      ]
    },
    {
      "cell_type": "markdown",
      "source": [
        "**3. Extend to Predicate Logic with Quantifiers**"
      ],
      "metadata": {
        "id": "8zazekQMHjbb"
      }
    },
    {
      "cell_type": "code",
      "source": [
        "# Universal quantifier (FOR ALL ∀)\n",
        "def forall(predicate, domain):\n",
        "\n",
        "    return all(predicate(x) for x in domain)\n",
        "\n",
        "# Existential quantifier (EXISTS ∃)\n",
        "def exists(predicate, domain):\n",
        "\n",
        "    return any(predicate(x) for x in domain)\n",
        "\n",
        "def is_even(x):\n",
        "    return x % 2 == 0\n",
        "\n",
        "def is_positive(x):\n",
        "    return x > 0\n",
        "\n",
        "domain = [1, 2, 3, 4]\n",
        "\n",
        "# Universal quantifier:\n",
        "result_forall = forall(is_even, domain)\n",
        "print(f\"FOR ALL ∀: Are all numbers even? {result_forall}\")  # False\n",
        "\n",
        "# Existential quantifier:\n",
        "result_exists = exists(is_even, domain)\n",
        "print(f\"EXISTS ∃: Is there an even number? {result_exists}\")  # True\n"
      ],
      "metadata": {
        "colab": {
          "base_uri": "https://localhost:8080/"
        },
        "id": "Ir5nSZWeHqb5",
        "outputId": "3dc08c28-f577-49b8-90a7-0334f007bab9"
      },
      "execution_count": null,
      "outputs": [
        {
          "output_type": "stream",
          "name": "stdout",
          "text": [
            "FOR ALL ∀: Are all numbers even? False\n",
            "EXISTS ∃: Is there an even number? True\n"
          ]
        }
      ]
    },
    {
      "cell_type": "markdown",
      "source": [
        "**4. AI Agent Development**"
      ],
      "metadata": {
        "id": "5pMzVhntHzdf"
      }
    },
    {
      "cell_type": "code",
      "source": [
        "class AIAgent:\n",
        "    def __init__(self):\n",
        "        pass\n",
        "\n",
        "    def make_decision(self, obstacle, energy_level):\n",
        "\n",
        "        can_move = not_operation(obstacle) and energy_level\n",
        "        if can_move:\n",
        "            return \"Move\"\n",
        "        else:\n",
        "            return \"Wait\"\n",
        "\n",
        "\n",
        "agent = AIAgent()\n",
        "\n",
        "# Test case 1:\n",
        "decision = agent.make_decision(obstacle=False, energy_level=True)\n",
        "print(f\"Decision with no obstacle and sufficient energy: {decision}\")  # Move\n",
        "\n",
        "# Test case 2:\n",
        "decision = agent.make_decision(obstacle=True, energy_level=True)\n",
        "print(f\"Decision with obstacle and sufficient energy: {decision}\")  # Wait\n",
        "\n",
        "# Test case 3:\n",
        "decision = agent.make_decision(obstacle=False, energy_level=False)\n",
        "print(f\"Decision with no obstacle but low energy: {decision}\")  # Wait\n",
        "\n",
        "# Test case 4:\n",
        "decision = agent.make_decision(obstacle=True, energy_level=False)\n",
        "print(f\"Decision with obstacle and low energy: {decision}\")  # Wait\n"
      ],
      "metadata": {
        "colab": {
          "base_uri": "https://localhost:8080/"
        },
        "id": "XtJa-fL1H5wc",
        "outputId": "0c340cd3-6f4a-4934-d478-582c86c70719"
      },
      "execution_count": null,
      "outputs": [
        {
          "output_type": "stream",
          "name": "stdout",
          "text": [
            "Decision with no obstacle and sufficient energy: Move\n",
            "Decision with obstacle and sufficient energy: Wait\n",
            "Decision with no obstacle but low energy: Wait\n",
            "Decision with obstacle and low energy: Wait\n"
          ]
        }
      ]
    }
  ]
}