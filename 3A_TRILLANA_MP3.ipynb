{
  "nbformat": 4,
  "nbformat_minor": 0,
  "metadata": {
    "colab": {
      "provenance": [],
      "authorship_tag": "ABX9TyPr26camYJQnunlENR6S1KO",
      "include_colab_link": true
    },
    "kernelspec": {
      "name": "python3",
      "display_name": "Python 3"
    },
    "language_info": {
      "name": "python"
    }
  },
  "cells": [
    {
      "cell_type": "markdown",
      "metadata": {
        "id": "view-in-github",
        "colab_type": "text"
      },
      "source": [
        "<a href=\"https://colab.research.google.com/github/josephtrill/CSST101_TRILLANA_BSCS-3A/blob/main/3A_TRILLANA_MP3.ipynb\" target=\"_parent\"><img src=\"https://colab.research.google.com/assets/colab-badge.svg\" alt=\"Open In Colab\"/></a>"
      ]
    },
    {
      "cell_type": "markdown",
      "source": [
        "## Part 1: Implement Basic Probability Calculations"
      ],
      "metadata": {
        "id": "6nolozDWF_x5"
      }
    },
    {
      "cell_type": "code",
      "execution_count": 60,
      "metadata": {
        "id": "RAbIhsYs9qdj"
      },
      "outputs": [],
      "source": [
        "def joint_probability(p_a, p_b):\n",
        "    \"\"\"Calculate the joint probability of two independent events A and B.\"\"\"\n",
        "    return p_a * p_b\n",
        "\n",
        "def marginal_probability(p_a, p_b):\n",
        "    \"\"\"Calculate the marginal probability of event A.\"\"\"\n",
        "    return p_a + p_b - joint_probability(p_a, p_b)\n",
        "\n",
        "def conditional_probability(p_a, p_b, p_ab):\n",
        "    \"\"\"Calculate the conditional probability of A given B using Bayes' Theorem.\"\"\"\n",
        "    if p_b == 0:\n",
        "        return 0\n",
        "    return p_ab / p_b"
      ]
    },
    {
      "cell_type": "code",
      "source": [
        "\n",
        "    # Input\n",
        "    p_a = float(input(\"Enter the probability of event A (between 0 and 1): \"))\n",
        "    p_b = float(input(\"Enter the probability of event B (between 0 and 1): \"))\n",
        "\n",
        "    # joint probability\n",
        "    p_ab = joint_probability(p_a, p_b)\n",
        "    print(f\"Joint Probability P(A and B): {p_ab:.4f}\")\n",
        "\n",
        "    # marginal probability\n",
        "    p_marginal_a = marginal_probability(p_a, p_b)\n",
        "    print(f\"Marginal Probability P(A): {p_marginal_a:.4f}\")\n",
        "\n",
        "    # conditional probability\n",
        "    p_conditional = conditional_probability(p_a, p_b, p_ab)\n",
        "    print(f\"Conditional Probability P(A | B): {p_conditional:.4f}\")\n"
      ],
      "metadata": {
        "id": "gM_HpYNB9x9b",
        "colab": {
          "base_uri": "https://localhost:8080/"
        },
        "outputId": "608c10ae-6511-43a6-8092-33ea224a412c"
      },
      "execution_count": 61,
      "outputs": [
        {
          "output_type": "stream",
          "name": "stdout",
          "text": [
            "Enter the probability of event A (between 0 and 1): 0.3\n",
            "Enter the probability of event B (between 0 and 1): 0.4\n",
            "Joint Probability P(A and B): 0.1200\n",
            "Marginal Probability P(A): 0.5800\n",
            "Conditional Probability P(A | B): 0.3000\n"
          ]
        }
      ]
    },
    {
      "cell_type": "markdown",
      "source": [
        "## Part 2: Bayesian Inference for Real-World Scenarios"
      ],
      "metadata": {
        "id": "cFWbBlncGPxe"
      }
    },
    {
      "cell_type": "code",
      "source": [
        "def bayesian_inference(prior, likelihood, evidence):\n",
        "    \"\"\"Update the probability of having a disease based on a positive test result.\"\"\"\n",
        "    if evidence == 0:\n",
        "        return 0\n",
        "    posterior = (likelihood * prior) / evidence\n",
        "    return posterior"
      ],
      "metadata": {
        "id": "ahPDUNSd92gr"
      },
      "execution_count": 62,
      "outputs": []
    },
    {
      "cell_type": "code",
      "source": [
        "    prior = float(input(\"Enter the prior probability of having the disease (between 0 and 1): \"))\n",
        "    likelihood = float(input(\"Enter the likelihood of a positive test given the disease (between 0 and 1): \"))\n",
        "    evidence = float(input(\"Enter the overall probability of a positive test (between 0 and 1): \"))\n",
        "\n",
        "    posterior = bayesian_inference(prior, likelihood, evidence)\n",
        "\n",
        "    print(f\"The posterior probability of having the disease after a positive test result is: {posterior:.4f}\")"
      ],
      "metadata": {
        "id": "1xjU-ZaG96PR",
        "colab": {
          "base_uri": "https://localhost:8080/"
        },
        "outputId": "ae2b422b-1936-4a78-f257-98255816fed5"
      },
      "execution_count": 63,
      "outputs": [
        {
          "output_type": "stream",
          "name": "stdout",
          "text": [
            "Enter the prior probability of having the disease (between 0 and 1): 0.01\n",
            "Enter the likelihood of a positive test given the disease (between 0 and 1): 0.9\n",
            "Enter the overall probability of a positive test (between 0 and 1): 0.05\n",
            "The posterior probability of having the disease after a positive test result is: 0.1800\n"
          ]
        }
      ]
    },
    {
      "cell_type": "markdown",
      "source": [
        "## Part 3: Simulate Decision-Making Under Uncertainty"
      ],
      "metadata": {
        "id": "OEUIU59ZGVfB"
      }
    },
    {
      "cell_type": "code",
      "source": [
        "import random\n",
        "\n",
        "def simulate_decision(prob_success, reward, penalty, trials):\n",
        "    \"\"\"\n",
        "    Simulate a decision-making process based on the probability of success,\n",
        "    the reward for success, and the penalty for failure.\n",
        "\n",
        "    :param prob_success: Probability of a successful outcome (0 to 1)\n",
        "    :param reward: Reward amount for a successful outcome\n",
        "    :param penalty: Penalty amount for a failed outcome\n",
        "    :param trials: Number of trials to simulate\n",
        "    :return: Average return over all trials\n",
        "    \"\"\"\n",
        "    total_return = 0\n",
        "\n",
        "    for _ in range(trials):\n",
        "        if random.random() < prob_success:\n",
        "            total_return += reward\n",
        "        else:\n",
        "            total_return -= penalty\n",
        "\n",
        "    average_return = total_return / trials\n",
        "    return average_return"
      ],
      "metadata": {
        "id": "60KNzV54-ITU"
      },
      "execution_count": 64,
      "outputs": []
    },
    {
      "cell_type": "code",
      "source": [
        "\n",
        "    prob_success = float(input(\"Enter the probability of success (between 0 and 1): \"))\n",
        "    reward = float(input(\"Enter the reward amount for success: \"))\n",
        "    penalty = float(input(\"Enter the penalty amount for failure: \"))\n",
        "    trials = int(input(\"Enter the number of trials to simulate: \"))\n",
        "\n",
        "    average_return = simulate_decision(prob_success, reward, penalty, trials)\n",
        "\n",
        "    print(f\"\\nAfter {trials} trials:\")\n",
        "    print(f\"Average return: {average_return:.2f}\")"
      ],
      "metadata": {
        "id": "25D4ZPEt-KEb",
        "colab": {
          "base_uri": "https://localhost:8080/"
        },
        "outputId": "74e90ef6-1963-4778-a3b0-e5d0a205a5e4"
      },
      "execution_count": 65,
      "outputs": [
        {
          "output_type": "stream",
          "name": "stdout",
          "text": [
            "Enter the probability of success (between 0 and 1): 0.7\n",
            "Enter the reward amount for success: 1000\n",
            "Enter the penalty amount for failure: 100\n",
            "Enter the number of trials to simulate: 1000\n",
            "\n",
            "After 1000 trials:\n",
            "Average return: 686.50\n"
          ]
        }
      ]
    },
    {
      "cell_type": "markdown",
      "source": [
        "## Part 4: Visualize Probability Distributions"
      ],
      "metadata": {
        "id": "cnt3RePcGjAE"
      }
    },
    {
      "cell_type": "code",
      "source": [
        "pip install matplotlib numpy"
      ],
      "metadata": {
        "colab": {
          "base_uri": "https://localhost:8080/"
        },
        "id": "UEreky2UDV-v",
        "outputId": "5b71bfa2-ed55-46f8-a49f-d884dab92a4c"
      },
      "execution_count": 66,
      "outputs": [
        {
          "output_type": "stream",
          "name": "stdout",
          "text": [
            "Requirement already satisfied: matplotlib in /usr/local/lib/python3.10/dist-packages (3.7.1)\n",
            "Requirement already satisfied: numpy in /usr/local/lib/python3.10/dist-packages (1.26.4)\n",
            "Requirement already satisfied: contourpy>=1.0.1 in /usr/local/lib/python3.10/dist-packages (from matplotlib) (1.3.0)\n",
            "Requirement already satisfied: cycler>=0.10 in /usr/local/lib/python3.10/dist-packages (from matplotlib) (0.12.1)\n",
            "Requirement already satisfied: fonttools>=4.22.0 in /usr/local/lib/python3.10/dist-packages (from matplotlib) (4.53.1)\n",
            "Requirement already satisfied: kiwisolver>=1.0.1 in /usr/local/lib/python3.10/dist-packages (from matplotlib) (1.4.7)\n",
            "Requirement already satisfied: packaging>=20.0 in /usr/local/lib/python3.10/dist-packages (from matplotlib) (24.1)\n",
            "Requirement already satisfied: pillow>=6.2.0 in /usr/local/lib/python3.10/dist-packages (from matplotlib) (10.4.0)\n",
            "Requirement already satisfied: pyparsing>=2.3.1 in /usr/local/lib/python3.10/dist-packages (from matplotlib) (3.1.4)\n",
            "Requirement already satisfied: python-dateutil>=2.7 in /usr/local/lib/python3.10/dist-packages (from matplotlib) (2.8.2)\n",
            "Requirement already satisfied: six>=1.5 in /usr/local/lib/python3.10/dist-packages (from python-dateutil>=2.7->matplotlib) (1.16.0)\n"
          ]
        }
      ]
    },
    {
      "cell_type": "code",
      "source": [
        "import numpy as np\n",
        "import matplotlib.pyplot as plt\n",
        "\n",
        "def simulate_binomial(n, p, trials):\n",
        "    \"\"\"\n",
        "    Simulate a binomial distribution based on number of trials and probability of success.\n",
        "\n",
        "    :param n: Number of trials (e.g., coin flips)\n",
        "    :param p: Probability of success (e.g., heads)\n",
        "    :param trials: Number of experiments to run\n",
        "    :return: Results of the binomial experiments\n",
        "    \"\"\"\n",
        "    return np.random.binomial(n, p, trials)\n",
        "\n",
        "def simulate_normal(mean, std_dev, samples):\n",
        "    \"\"\"\n",
        "    Simulate a normal distribution based on mean and standard deviation.\n",
        "\n",
        "    :param mean: Mean of the distribution (e.g., average exam score)\n",
        "    :param std_dev: Standard deviation of the distribution\n",
        "    :param samples: Number of samples to generate\n",
        "    :return: Results of the normal distribution samples\n",
        "    \"\"\"\n",
        "    return np.random.normal(mean, std_dev, samples)\n",
        "\n",
        "def plot_distribution(data, title):\n",
        "    \"\"\"\n",
        "    Plot a histogram of the given data.\n",
        "\n",
        "    :param data: Data to plot\n",
        "    :param title: Title for the histogram\n",
        "    \"\"\"\n",
        "    plt.figure(figsize=(10, 6))\n",
        "    plt.hist(data, bins=30, alpha=0.7, color='blue', edgecolor='black')\n",
        "    plt.title(title)\n",
        "    plt.xlabel('Value')\n",
        "    plt.ylabel('Frequency')\n",
        "    plt.grid(axis='y', alpha=0.75)\n",
        "    plt.show()"
      ],
      "metadata": {
        "id": "yZF3_EPTDlCb"
      },
      "execution_count": 67,
      "outputs": []
    },
    {
      "cell_type": "code",
      "source": [
        "\n",
        "    choice = input(\"Choose a distribution to simulate (binomial/normal): \").strip().lower()\n",
        "\n",
        "    if choice == 'binomial':\n",
        "        n = int(input(\"Enter the number of trials (e.g., coin flips): \"))\n",
        "        p = float(input(\"Enter the probability of success (e.g., probability of heads): \"))\n",
        "        trials = int(input(\"Enter the number of experiments to run: \"))\n",
        "\n",
        "        data = simulate_binomial(n, p, trials)\n",
        "        plot_distribution(data, f'Binomial Distribution (n={n}, p={p})')\n",
        "\n",
        "    elif choice == 'normal':\n",
        "        mean = float(input(\"Enter the mean (e.g., average exam score): \"))\n",
        "        std_dev = float(input(\"Enter the standard deviation (e.g., variability in scores): \"))\n",
        "        samples = int(input(\"Enter the number of samples to generate: \"))\n",
        "\n",
        "        data = simulate_normal(mean, std_dev, samples)\n",
        "        plot_distribution(data, f'Normal Distribution (mean={mean}, std_dev={std_dev})')\n",
        "\n",
        "    else:\n",
        "        print(\"Invalid choice. Please select either 'binomial' or 'normal'.\")"
      ],
      "metadata": {
        "colab": {
          "base_uri": "https://localhost:8080/",
          "height": 633
        },
        "id": "UeasM4gZDrYb",
        "outputId": "7c326f7b-7975-4bc8-8655-4220b6c7d102"
      },
      "execution_count": 72,
      "outputs": [
        {
          "name": "stdout",
          "output_type": "stream",
          "text": [
            "Choose a distribution to simulate (binomial/normal): normal\n",
            "Enter the mean (e.g., average exam score): 40\n",
            "Enter the standard deviation (e.g., variability in scores): 30\n",
            "Enter the number of samples to generate: 20\n"
          ]
        },
        {
          "output_type": "display_data",
          "data": {
            "text/plain": [
              "<Figure size 1000x600 with 1 Axes>"
            ],
            "image/png": "[encoded data removed]"
          },
          "metadata": {}
        }
      ]
    },
    {
      "cell_type": "markdown",
      "source": [
        "## Part 5: Real-World Scenario Prediction"
      ],
      "metadata": {
        "id": "3DlCFELwG4Fx"
      }
    },
    {
      "cell_type": "code",
      "source": [
        "def calculate_probability_of_rain(humidity, cloud_cover):\n",
        "    \"\"\"\n",
        "    Calculate the probability of rain based on humidity and cloud cover.\n",
        "\n",
        "    :param humidity: Humidity level (0 to 100)\n",
        "    :param cloud_cover: Cloud cover percentage (0 to 100)\n",
        "    :return: Probability of rain\n",
        "    \"\"\"\n",
        "\n",
        "    base_probability = 0.1  # Base probability of rain\n",
        "\n",
        "    if humidity > 80:\n",
        "        base_probability += 0.3  # if humidity is high\n",
        "    elif humidity > 50:\n",
        "        base_probability += 0.2  # medium humidity\n",
        "\n",
        "    if cloud_cover > 70:\n",
        "        base_probability += 0.4  # if cloud cover is high\n",
        "    elif cloud_cover > 40:\n",
        "        base_probability += 0.2  # medium cloud cover\n",
        "\n",
        "    return min(base_probability, 1.0)"
      ],
      "metadata": {
        "id": "aSyuG7nyESDN"
      },
      "execution_count": 73,
      "outputs": []
    },
    {
      "cell_type": "code",
      "source": [
        "\n",
        "    try:\n",
        "        humidity = float(input(\"Enter the humidity level (0 to 1): \"))\n",
        "        cloud_cover = float(input(\"Enter the cloud cover percentage (0 to 1): \"))\n",
        "\n",
        "        if not (0 <= humidity <= 100) or not (0 <= cloud_cover <= 100):\n",
        "            raise ValueError(\"Humidity and cloud cover must be between 0 and 1.\")\n",
        "\n",
        "        # Calculate the probability of rain\n",
        "        probability_of_rain = calculate_probability_of_rain(humidity, cloud_cover)\n",
        "\n",
        "        print(f\"\\nThe predicted probability of rain is: {probability_of_rain:.2f}\")\n",
        "\n",
        "        if probability_of_rain > 0.7:\n",
        "            print(\"It's very likely to rain. Don't forget your umbrella!\")\n",
        "        elif probability_of_rain > 0.4:\n",
        "            print(\"There's a moderate chance of rain. You might want to be prepared.\")\n",
        "        else:\n",
        "            print(\"It's unlikely to rain today.\")\n",
        "\n",
        "    except ValueError as e:\n",
        "        print(f\"Invalid input: {e}\")"
      ],
      "metadata": {
        "colab": {
          "base_uri": "https://localhost:8080/"
        },
        "id": "DoCM7H6vEUF8",
        "outputId": "531aebcc-ef76-4c8c-99cb-8779e1482735"
      },
      "execution_count": 74,
      "outputs": [
        {
          "output_type": "stream",
          "name": "stdout",
          "text": [
            "Enter the humidity level (0 to 1): 0.1\n",
            "Enter the cloud cover percentage (0 to 1): 0.8\n",
            "\n",
            "The predicted probability of rain is: 0.10\n",
            "It's unlikely to rain today.\n"
          ]
        }
      ]
    }
  ]
}