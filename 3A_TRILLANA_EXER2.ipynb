{
  "nbformat": 4,
  "nbformat_minor": 0,
  "metadata": {
    "colab": {
      "provenance": [],
      "collapsed_sections": [
        "cOVd7frUGotR",
        "uInrLQG9Gvxt",
        "icH3SnnzH-Xs"
      ]
    },
    "kernelspec": {
      "name": "python3",
      "display_name": "Python 3"
    },
    "language_info": {
      "name": "python"
    }
  },
  "cells": [
    {
      "cell_type": "markdown",
      "source": [
        "\n",
        "# Exercise 1"
      ],
      "metadata": {
        "id": "cOVd7frUGotR"
      }
    },
    {
      "cell_type": "code",
      "execution_count": null,
      "metadata": {
        "id": "VLDSlZWrDxHx"
      },
      "outputs": [],
      "source": [
        "def joint_probability(p_A, p_B):\n",
        "  return p_A * p_B"
      ]
    },
    {
      "cell_type": "code",
      "source": [
        "def marginal_probability(p_A, p_B):\n",
        "  return p_A + p_B - joint_probability(p_A, p_B)"
      ],
      "metadata": {
        "id": "kSNK692yD-uQ"
      },
      "execution_count": null,
      "outputs": []
    },
    {
      "cell_type": "code",
      "source": [
        "def conditional_probability(p_B_given, p_A, p_B):\n",
        "  return (p_B_given * p_A) / p_B"
      ],
      "metadata": {
        "id": "hvEDcAOREGCR"
      },
      "execution_count": null,
      "outputs": []
    },
    {
      "cell_type": "code",
      "source": [
        "def get_probabilities():\n",
        "  p_A = float(input(\"Enter probability of event A: \"))\n",
        "  p_B = float(input(\"Enter probability of event B: \"))\n",
        "  p_B_given = float(input(\"Enter probability of event B given A: \"))\n",
        "  return p_A, p_B, p_B_given"
      ],
      "metadata": {
        "id": "QVCU2QM4Fm83"
      },
      "execution_count": null,
      "outputs": []
    },
    {
      "cell_type": "code",
      "source": [
        "def main():\n",
        "    p_A, p_B, p_B_given = get_probabilities()\n",
        "    print(f\" \")\n",
        "    print(f\"Joint probability: {joint_probability(p_A, p_B)}\")\n",
        "    print(f\"Marginal probability: {marginal_probability(p_A, p_B)}\")\n",
        "    print(f\"Conditional probability: {conditional_probability(p_B_given, p_A, p_B)}\")\n",
        "\n",
        "if __name__ == \"__main__\":\n",
        "    main()"
      ],
      "metadata": {
        "colab": {
          "base_uri": "https://localhost:8080/"
        },
        "id": "uOxHEvq3EVqB",
        "outputId": "c858f37a-6840-40f4-ccb2-2b987ea304a8"
      },
      "execution_count": null,
      "outputs": [
        {
          "output_type": "stream",
          "name": "stdout",
          "text": [
            "Enter probability of event A: 0.3\n",
            "Enter probability of event B: 0.4\n",
            "Enter probability of event B given A: 0.8\n",
            " \n",
            "Joint probability: 0.12\n",
            "Marginal probability: 0.58\n",
            "Conditional probability: 0.6\n"
          ]
        }
      ]
    },
    {
      "cell_type": "markdown",
      "source": [
        "# Exercise 2"
      ],
      "metadata": {
        "id": "uInrLQG9Gvxt"
      }
    },
    {
      "cell_type": "code",
      "source": [
        "import numpy as np"
      ],
      "metadata": {
        "id": "6TCZUqO7GzYE"
      },
      "execution_count": null,
      "outputs": []
    },
    {
      "cell_type": "code",
      "source": [
        "def simulate_decision(num_simulation, p_success, reward_success, reward_failure):\n",
        "  outcomes = []\n",
        "  for _ in range(num_simulation):\n",
        "    if np.random.rand() < p_success:\n",
        "      outcomes.append(reward_success)\n",
        "    else:\n",
        "      outcomes.append(reward_failure)\n",
        "  return np.mean(outcomes)"
      ],
      "metadata": {
        "id": "8k1huJXJG4_T"
      },
      "execution_count": null,
      "outputs": []
    },
    {
      "source": [
        "def main():\n",
        "  num_simulation = int(input(\"Enter number of simulations: \"))\n",
        "  p_success = float(input(\"Enter probability of success: \"))\n",
        "  reward_success = float(input(\"Enter reward for success: \"))\n",
        "  reward_failure = float(input(\"Enter reward for failure: \"))\n",
        "  average_outcome = simulate_decision(num_simulation, p_success, reward_success, reward_failure)\n",
        "  print(f\"Average outcome: {average_outcome}\")\n",
        "\n",
        "if __name__ == \"__main__\":\n",
        "    main()"
      ],
      "cell_type": "code",
      "metadata": {
        "id": "AyzwZQj0K-UH"
      },
      "execution_count": null,
      "outputs": []
    },
    {
      "cell_type": "markdown",
      "source": [
        "# Exercise 3\n"
      ],
      "metadata": {
        "id": "icH3SnnzH-Xs"
      }
    },
    {
      "cell_type": "code",
      "source": [
        "def bayesian_interference(prior, likelihood_positive_given_disease, likelihood_positive):\n",
        "  posterior = (likelihood_positive_given_disease * prior) / likelihood_positive\n",
        "  return posterior"
      ],
      "metadata": {
        "id": "BCcEEtBrIDzS"
      },
      "execution_count": null,
      "outputs": []
    },
    {
      "source": [
        "def main():\n",
        "  prior_disease = float(input(\"Enter prior probability of disease: \"))\n",
        "  likelihood_positive_given_disease = float(input(\"Enter likelihood of positive test given disease: \"))\n",
        "  likelihood_positive = float(input(\"Enter likelihood of positive test: \"))\n",
        "\n",
        "  posterior_disease = bayesian_interference(prior_disease, likelihood_positive_given_disease, likelihood_positive)\n",
        "  print(f\"Posterior probability of having the disease: {posterior_disease}\")\n",
        "\n",
        "if __name__ == \"__main__\":\n",
        "    main()"
      ],
      "cell_type": "code",
      "metadata": {
        "colab": {
          "base_uri": "https://localhost:8080/"
        },
        "id": "a7l930ZXLmoQ",
        "outputId": "3f6651d4-4326-43d5-b0ea-83139487e9d2"
      },
      "execution_count": null,
      "outputs": [
        {
          "output_type": "stream",
          "name": "stdout",
          "text": [
            "Enter prior probability of disease: 0.01\n",
            "Enter likelihood of positive test given disease: 0.9\n",
            "Enter likelihood of positive test: 0.05\n",
            "Posterior probability of having the disease: 0.18000000000000002\n"
          ]
        }
      ]
    },
    {
      "cell_type": "markdown",
      "source": [
        "# Exercise 4"
      ],
      "metadata": {
        "id": "QHUz55yhI_vp"
      }
    },
    {
      "cell_type": "code",
      "source": [
        "import matplotlib.pyplot as plt"
      ],
      "metadata": {
        "id": "MQF_FBeYJCC0"
      },
      "execution_count": null,
      "outputs": []
    },
    {
      "source": [
        "import numpy as np\n",
        "import matplotlib.pyplot as plt\n",
        "\n",
        "def main():\n",
        "  distribution_type = input(\"Enter distribution type ('binomial' or 'normal'): \")\n",
        "\n",
        "  if distribution_type.lower() == 'binomial':\n",
        "    n_trials = int(input(\"Enter number of trials: \"))\n",
        "    p_head = float(input(\"Enter probability of success: \"))\n",
        "    distribution = np.random.binomial(n=1, p=p_head, size=n_trials)\n",
        "\n",
        "  elif distribution_type.lower() == 'normal':\n",
        "    loc = float(input(\"Enter mean: \"))\n",
        "    scale = float(input(\"Enter standard deviation: \"))\n",
        "    size = int(input(\"Enter number of samples: \"))\n",
        "    distribution = np.random.normal(loc=loc, scale=scale, size=size)\n",
        "\n",
        "  else:\n",
        "    print(\"Invalid distribution type.\")\n",
        "    return\n",
        "\n",
        "  plt.hist(distribution)\n",
        "  plt.title(f\"{distribution_type.capitalize()} Distribution\")\n",
        "  plt.show()\n",
        "\n",
        "if __name__ == \"__main__\":\n",
        "  main()"
      ],
      "cell_type": "code",
      "metadata": {
        "colab": {
          "base_uri": "https://localhost:8080/",
          "height": 504
        },
        "id": "VcYoNHvYNEFM",
        "outputId": "0ac73c4a-9f07-429d-8856-c5ed7151253d"
      },
      "execution_count": null,
      "outputs": [
        {
          "name": "stdout",
          "output_type": "stream",
          "text": [
            "Enter distribution type ('binomial' or 'normal'): binomial\n",
            "Enter number of trials: 1000\n",
            "Enter probability of success: 0.5\n"
          ]
        },
        {
          "output_type": "display_data",
          "data": {
            "text/plain": [
              "<Figure size 640x480 with 1 Axes>"
            ],
            "image/png": "[encoded data removed]"
          },
          "metadata": {}
        }
      ]
    },
    {
      "cell_type": "markdown",
      "source": [
        "# Exercise 5\n"
      ],
      "metadata": {
        "id": "DW2lSVFsJkqL"
      }
    },
    {
      "source": [
        "def main():\n",
        "  p_purchase_given_cart = float(input(\"Humidity Level(0-1): \"))\n",
        "  p_cart = float(input(\"Cloud Level(0-1): \"))\n",
        "  p_purchase = conditional_probability(p_purchase_given_cart, p_cart, 1)\n",
        "  print(f\"Probability of rain: {p_purchase}\")\n",
        "\n",
        "if __name__ == \"__main__\":\n",
        "    main()"
      ],
      "cell_type": "code",
      "metadata": {
        "colab": {
          "base_uri": "https://localhost:8080/"
        },
        "id": "pnIb530vL8sR",
        "outputId": "7170e35c-527f-4525-a9f6-73c7668a2fd1"
      },
      "execution_count": null,
      "outputs": [
        {
          "output_type": "stream",
          "name": "stdout",
          "text": [
            "Humidity Level(0-1): 0.8\n",
            "Cloud Level(0-1): 0.6\n",
            "Probability of rain: 0.48\n"
          ]
        }
      ]
    }
  ]
}