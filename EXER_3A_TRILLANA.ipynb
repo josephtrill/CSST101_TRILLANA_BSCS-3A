{
  "nbformat": 4,
  "nbformat_minor": 0,
  "metadata": {
    "colab": {
      "provenance": [],
      "include_colab_link": true
    },
    "kernelspec": {
      "name": "python3",
      "display_name": "Python 3"
    },
    "language_info": {
      "name": "python"
    }
  },
  "cells": [
    {
      "cell_type": "markdown",
      "metadata": {
        "id": "view-in-github",
        "colab_type": "text"
      },
      "source": [
        "<a href=\"https://colab.research.google.com/github/josephtrill/CSST101_TRILLANA_BSCS-3A/blob/main/EXER_3A_TRILLANA.ipynb\" target=\"_parent\"><img src=\"https://colab.research.google.com/assets/colab-badge.svg\" alt=\"Open In Colab\"/></a>"
      ]
    },
    {
      "cell_type": "markdown",
      "source": [
        "# Importing Libraries"
      ],
      "metadata": {
        "id": "aAAp-fPfD_ht"
      }
    },
    {
      "cell_type": "code",
      "source": [
        "import pandas as pd\n",
        "import numpy as np\n",
        "import matplotlib.pyplot as plt\n",
        "import seaborn as sns\n",
        "from sklearn.model_selection import train_test_split\n",
        "from sklearn.preprocessing import StandardScaler\n",
        "from sklearn.metrics import accuracy_score, confusion_matrix, classification_report\n",
        "from sklearn.ensemble import RandomForestClassifier"
      ],
      "metadata": {
        "id": "3ssS7WsqD-NY"
      },
      "execution_count": null,
      "outputs": []
    },
    {
      "cell_type": "markdown",
      "source": [
        "BASIC PROBABILITY  CALCULATIONS"
      ],
      "metadata": {
        "id": "kBVyHfbOOkC_"
      }
    },
    {
      "cell_type": "code",
      "source": [
        "import numpy as np\n",
        "\n",
        "P_disease = 0.02\n",
        "P_have_disease = 0.95\n",
        "P_nodisease = 0.05\n",
        "P_positive = (P_have_disease * P_disease) + (P_nodisease * (1 - P_disease))\n",
        "P_positive_disease = P_have_disease * P_disease / P_positive\n",
        "print(P_positive_disease)"
      ],
      "metadata": {
        "colab": {
          "base_uri": "https://localhost:8080/"
        },
        "id": "2aCPveeOFeVM",
        "outputId": "f5d8c5e3-dce0-4d6b-f94b-719146e042b4"
      },
      "execution_count": null,
      "outputs": [
        {
          "output_type": "stream",
          "name": "stdout",
          "text": [
            "0.2794117647058823\n"
          ]
        }
      ]
    },
    {
      "cell_type": "markdown",
      "source": [
        "DECISION MAKING SIMULATION"
      ],
      "metadata": {
        "id": "JM5BrBzvOrvt"
      }
    },
    {
      "cell_type": "code",
      "source": [
        "P_success = 0.7\n",
        "benefit = 100\n",
        "P_fail =  0.3\n",
        "loss = 50\n",
        "\n",
        "P_success_benefit = P_success * benefit + P_fail * loss\n",
        "\n",
        "print(P_success_benefit)\n"
      ],
      "metadata": {
        "id": "rDdgP_ZcLL5j",
        "outputId": "307d5f0a-7125-473c-f7dc-157493451266",
        "colab": {
          "base_uri": "https://localhost:8080/"
        }
      },
      "execution_count": null,
      "outputs": [
        {
          "output_type": "stream",
          "name": "stdout",
          "text": [
            "85.0\n"
          ]
        }
      ]
    },
    {
      "cell_type": "markdown",
      "source": [
        "VISUALIZING A PROBABILITY DISTRIBUTION"
      ],
      "metadata": {
        "id": "Nlpq4ZH5Oxbt"
      }
    },
    {
      "cell_type": "code",
      "source": [
        "import matplotlib.pyplot as plt\n",
        "from scipy.stats import binom\n",
        "\n",
        "n = 5  # trials\n",
        "p = 0.5  # probability\n",
        "x = range(n + 1)  # possible number of successes (0 to n)\n",
        "\n",
        "probabilities = [binom.pmf(k, n, p) for k in x]\n",
        "\n",
        "plt.bar(x, probabilities)\n",
        "plt.xlabel('Number of Heads')\n",
        "plt.ylabel('Probability')\n",
        "plt.title('Probability Distribution of Heads in Coin Flips')\n",
        "plt.xticks(x)\n",
        "\n",
        "# Display the plot\n",
        "plt.show()"
      ],
      "metadata": {
        "id": "NoDfclovL1aD",
        "outputId": "a47ef5bf-9fad-4c19-fb8a-384b4ec200df",
        "colab": {
          "base_uri": "https://localhost:8080/",
          "height": 472
        }
      },
      "execution_count": null,
      "outputs": [
        {
          "output_type": "display_data",
          "data": {
            "text/plain": [
              "<Figure size 640x480 with 1 Axes>"
            ],
            "image/png": "[encoded data removed]"
          },
          "metadata": {}
        }
      ]
    }
  ]
}